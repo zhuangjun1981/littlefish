{
 "cells": [
  {
   "cell_type": "code",
   "execution_count": 1,
   "metadata": {},
   "outputs": [],
   "source": [
    "from littlefish.visulization import plotting\n",
    "import matplotlib.pyplot as plt\n",
    "import seaborn as sns\n",
    "import numpy as np"
   ]
  },
  {
   "cell_type": "code",
   "execution_count": 2,
   "metadata": {},
   "outputs": [],
   "source": [
    "simulation_folder = r\"F:\\little_fish_simulation_logs_4eyes_ff\"\n",
    "min_generation = 0\n",
    "max_generation = 40\n",
    "\n",
    "population_size = 1000\n",
    "turnover_rate = 0.6\n",
    "\n",
    "mother_fish_num = int(population_size * (1 - turnover_rate))"
   ]
  },
  {
   "cell_type": "code",
   "execution_count": null,
   "metadata": {},
   "outputs": [],
   "source": [
    "life_span_df = plotting.collect_life_spans(\n",
    "    simulation_folder,\n",
    "    min_generation=min_generation,  # 0\n",
    "    max_generation=max_generation,  # 25\n",
    ")"
   ]
  },
  {
   "cell_type": "code",
   "execution_count": null,
   "metadata": {},
   "outputs": [],
   "source": [
    "life_span_df.sort_values(by=\"life_span\")"
   ]
  },
  {
   "cell_type": "code",
   "execution_count": null,
   "metadata": {},
   "outputs": [],
   "source": [
    "gens = sorted(life_span_df[\"generation\"].unique())\n",
    "mean_life_span = []\n",
    "mean_mo_life_last_gen = []\n",
    "mean_mo_life_curr_gen = []\n",
    "for gen in gens:\n",
    "    curr_life_span = sorted(life_span_df.query(\"generation == @gen\")[\"life_span\"])\n",
    "    mean_life_span.append(np.mean(curr_life_span))\n",
    "    mean_mo_life_last_gen.append(np.mean(life_span_df.query(\"generation == @gen and is_from_last_geneartion\")[\"life_span\"]))\n",
    "    mean_mo_life_curr_gen.append(np.mean(curr_life_span[-mother_fish_num:]))\n",
    "\n",
    "f, ax = plt.subplots(figsize=(15, 6))\n",
    "ax.plot(gens, mean_life_span, label=\"all fish\")\n",
    "ax.plot(gens, mean_mo_life_last_gen, label=\"mother fish last gen\")\n",
    "ax.plot(gens, mean_mo_life_curr_gen, label=\"mother fish current gen\")\n",
    "ax.set_xlabel(\"generation\")\n",
    "ax.set_ylabel(\"mean life span\")\n",
    "ax.set_title(simulation_folder)\n",
    "ax.legend()"
   ]
  },
  {
   "cell_type": "code",
   "execution_count": null,
   "metadata": {},
   "outputs": [],
   "source": [
    "f, ax = plt.subplots(figsize=(15, 6))\n",
    "ax.set_title(simulation_folder)\n",
    "sns.violinplot(\n",
    "    data=life_span_df, x=\"generation\", y=\"life_span\", ax=ax, cut=0, linewidth=0.5,\n",
    ")\n",
    "ax.set_ylim([0, 10000])"
   ]
  },
  {
   "cell_type": "code",
   "execution_count": null,
   "metadata": {},
   "outputs": [],
   "source": [
    "f, ax = plt.subplots(figsize=(10, 6))\n",
    "ax.set_title(simulation_folder)\n",
    "plotting.plot_simulation_life_spans(\n",
    "    life_span_df, ax, max_life_span=10000, bins=50, legend_gap=5, \n",
    ")\n",
    "ax.legend()\n",
    "plt.tight_layout()"
   ]
  }
 ],
 "metadata": {
  "kernelspec": {
   "display_name": "littlefish",
   "language": "python",
   "name": "python3"
  },
  "language_info": {
   "codemirror_mode": {
    "name": "ipython",
    "version": 3
   },
   "file_extension": ".py",
   "mimetype": "text/x-python",
   "name": "python",
   "nbconvert_exporter": "python",
   "pygments_lexer": "ipython3",
   "version": "3.12.4"
  }
 },
 "nbformat": 4,
 "nbformat_minor": 2
}
