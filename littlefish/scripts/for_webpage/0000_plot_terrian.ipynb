{
 "cells": [
  {
   "cell_type": "code",
   "execution_count": 1,
   "metadata": {},
   "outputs": [],
   "source": [
    "import littlefish.core.terrain as te\n",
    "import numpy as np\n",
    "import matplotlib.pyplot as plt\n",
    "import littlefish.viewer.simulation_viewer as sv\n",
    "import random\n",
    "\n",
    "random.seed(42)\n",
    "np.random.seed(42)"
   ]
  },
  {
   "cell_type": "code",
   "execution_count": 2,
   "metadata": {},
   "outputs": [],
   "source": [
    "terrain_size = (64, 64)\n",
    "sea_portion = 0.5\n",
    "terrain_filter_sigma = 3.\n",
    "food_num = 50\n",
    "\n",
    "fish_position = [58, 25]"
   ]
  },
  {
   "cell_type": "code",
   "execution_count": 3,
   "metadata": {},
   "outputs": [
    {
     "data": {
      "text/plain": [
       "<littlefish.core.terrain.TerrainGenerator at 0x1c7bbb59730>"
      ]
     },
     "execution_count": 3,
     "metadata": {},
     "output_type": "execute_result"
    }
   ],
   "source": [
    "tg = te.TerrainGenerator(size=terrain_size, sea_portion=sea_portion)\n",
    "tg"
   ]
  },
  {
   "cell_type": "code",
   "execution_count": 4,
   "metadata": {},
   "outputs": [
    {
     "data": {
      "text/plain": [
       "<littlefish.core.terrain.BinaryTerrain at 0x1c7bbc38500>"
      ]
     },
     "execution_count": 4,
     "metadata": {},
     "output_type": "execute_result"
    }
   ],
   "source": [
    "ter = te.BinaryTerrain(tg.generate_binary_map(sigma=terrain_filter_sigma))\n",
    "ter"
   ]
  },
  {
   "cell_type": "code",
   "execution_count": 5,
   "metadata": {},
   "outputs": [],
   "source": [
    "food_map = np.zeros(terrain_size, dtype=int)\n",
    "food_positions = ter.update_food_map(food_map=food_map, food_num=food_num)"
   ]
  },
  {
   "cell_type": "code",
   "execution_count": 6,
   "metadata": {},
   "outputs": [
    {
     "name": "stdout",
     "output_type": "stream",
     "text": [
      "(64, 64, 3)\n"
     ]
    }
   ],
   "source": [
    "map_rgb = sv.get_terrain_map_rgb(ter.get_terrain_map())\n",
    "map_rgb = sv.add_fish_rgb(map_rgb, fish_position)\n",
    "sv.add_foods_rgb(map_rgb, food_positions)\n",
    "print(map_rgb.shape)"
   ]
  },
  {
   "cell_type": "code",
   "execution_count": 7,
   "metadata": {},
   "outputs": [
    {
     "data": {
      "image/png": "[encoded data removed]",
      "text/plain": [
       "<Figure size 800x800 with 1 Axes>"
      ]
     },
     "metadata": {},
     "output_type": "display_data"
    }
   ],
   "source": [
    "f, ax = plt.subplots(figsize=(8, 8))\n",
    "ax.imshow(map_rgb)\n",
    "ax.set_axis_off()"
   ]
  }
 ],
 "metadata": {
  "kernelspec": {
   "display_name": "littlefish",
   "language": "python",
   "name": "python3"
  },
  "language_info": {
   "codemirror_mode": {
    "name": "ipython",
    "version": 3
   },
   "file_extension": ".py",
   "mimetype": "text/x-python",
   "name": "python",
   "nbconvert_exporter": "python",
   "pygments_lexer": "ipython3",
   "version": "3.12.4"
  }
 },
 "nbformat": 4,
 "nbformat_minor": 2
}
