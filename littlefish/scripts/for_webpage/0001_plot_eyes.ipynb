{
 "cells": [
  {
   "cell_type": "code",
   "execution_count": 1,
   "metadata": {},
   "outputs": [],
   "source": [
    "import numpy as np\n",
    "import matplotlib.pyplot as plt\n",
    "from littlefish.core.fish import Eye"
   ]
  },
  {
   "cell_type": "code",
   "execution_count": 2,
   "metadata": {},
   "outputs": [],
   "source": [
    "# define colors\n",
    "eye_rgb = np.array([153, 0, 0], dtype=int)\n",
    "body_rgb = np.array([241, 196, 15], dtype=int)\n",
    "vf_cmap = \"Reds\"  # visual field colormap\n",
    "env_rgb = np.array([102, 178, 255], dtype=int)  # environment"
   ]
  },
  {
   "cell_type": "code",
   "execution_count": 5,
   "metadata": {},
   "outputs": [],
   "source": [
    "def get_base_map_rgb(body_rgb):\n",
    "    base_map = np.ones((9, 9, 3), dtype=int)\n",
    "    for ch in range(3):\n",
    "        base_map[:, :, ch] = env_rgb[ch]\n",
    "    \n",
    "    for body_row in range(3, 6):\n",
    "        for body_col in range(3, 6):\n",
    "            base_map[body_row, body_col, :] = body_rgb\n",
    "\n",
    "    return base_map\n",
    "\n",
    "\n",
    "def get_RGB_from_cmap(cmap:str, value: float):\n",
    "    value = np.clip(value, 0, 1)\n",
    "    cmap_obj = plt.get_cmap(cmap)\n",
    "    rgb = cmap_obj(value)[:3]\n",
    "    rgb = (np.array(rgb) * 255).astype(int)\n",
    "    return rgb\n",
    "\n",
    "    \n",
    "def add_eye_and_visual_field(base_map, eye_rgb, vf_cmap, direction):\n",
    "\n",
    "    eye = Eye(direction=direction)\n",
    "    body_position = np.array([4, 4])\n",
    "\n",
    "    if direction == \"east\":\n",
    "        eye_position = np.array([0, 1])\n",
    "    elif direction == \"west\":\n",
    "        eye_position = np.array([0, -1])\n",
    "    elif direction == \"north\":\n",
    "        eye_position = np.array([-1, 0])\n",
    "    elif direction == \"south\":\n",
    "        eye_position = np.array([1, 0])\n",
    "    \n",
    "    eye_position = eye_position + body_position\n",
    "\n",
    "    vf_positions = eye._get_rf_positions()\n",
    "    vf_positions[:, 0] = vf_positions[:, 0] + body_position[0]\n",
    "    vf_positions[:, 1] = vf_positions[:, 1] + body_position[1]\n",
    "\n",
    "    input_filter = eye.get_input_filter()\n",
    "    input_filter = input_filter / 0.2  # to darken the color\n",
    "    filter_rgb = []\n",
    "    for input in input_filter:\n",
    "        filter_rgb.append(get_RGB_from_cmap(cmap=vf_cmap, value=input))\n",
    "    filter_rgb = np.array(filter_rgb, dtype=int)\n",
    "    \n",
    "    base_map = base_map.copy()\n",
    "    base_map[eye_position[0], eye_position[1], :] = eye_rgb\n",
    "\n",
    "    for vf_idx in range(4, 16):\n",
    "        base_map[vf_positions[vf_idx, 0], vf_positions[vf_idx, 1], :] = filter_rgb[vf_idx]\n",
    "\n",
    "    return base_map\n",
    "\n",
    "def plot_map(map_to_plot, ax):\n",
    "    ax.imshow(map_to_plot)\n",
    "    ax.set_axis_off()\n",
    "    coors = [[2.5, 2.5], [5.5, 2.5], [5.5, 5.5], [2.5, 5.5], [2.5, 2.5]]\n",
    "    coors = np.array(coors)\n",
    "    ax.plot(coors[:, 0], coors[:, 1], ls='-', color='#555555')\n"
   ]
  },
  {
   "cell_type": "code",
   "execution_count": 10,
   "metadata": {},
   "outputs": [
    {
     "data": {
      "image/png": "[encoded data removed]",
      "text/plain": [
       "<Figure size 800x800 with 4 Axes>"
      ]
     },
     "metadata": {},
     "output_type": "display_data"
    }
   ],
   "source": [
    "f, axs = plt.subplots(2, 2, figsize=(8, 8))\n",
    "\n",
    "map_base = get_base_map_rgb(body_rgb)\n",
    "map_north = add_eye_and_visual_field(map_base, eye_rgb, vf_cmap, direction='north')\n",
    "map_south = add_eye_and_visual_field(map_base, eye_rgb, vf_cmap, direction='south')\n",
    "map_east = add_eye_and_visual_field(map_base, eye_rgb, vf_cmap, direction='east')\n",
    "map_west = add_eye_and_visual_field(map_base, eye_rgb, vf_cmap, direction='west')\n",
    "plot_map(map_north, axs[0, 0])\n",
    "plot_map(map_south, axs[0, 1])\n",
    "plot_map(map_east, axs[1, 0])\n",
    "plot_map(map_west, axs[1, 1])\n",
    "\n",
    "axs[0, 0].set_title(\"Receptive field: North\", fontsize=14)\n",
    "axs[0, 1].set_title(\"Receptive field: South\", fontsize=14)\n",
    "axs[1, 0].set_title(\"Receptive field: East\", fontsize=14)\n",
    "axs[1, 1].set_title(\"Receptive field: West\", fontsize=14)\n",
    "plt.tight_layout()\n"
   ]
  }
 ],
 "metadata": {
  "kernelspec": {
   "display_name": "littlefish",
   "language": "python",
   "name": "python3"
  },
  "language_info": {
   "codemirror_mode": {
    "name": "ipython",
    "version": 3
   },
   "file_extension": ".py",
   "mimetype": "text/x-python",
   "name": "python",
   "nbconvert_exporter": "python",
   "pygments_lexer": "ipython3",
   "version": "3.12.4"
  }
 },
 "nbformat": 4,
 "nbformat_minor": 2
}
